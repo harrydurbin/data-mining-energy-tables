{
 "cells": [
  {
   "cell_type": "code",
   "execution_count": 2,
   "metadata": {
    "collapsed": true
   },
   "outputs": [],
   "source": [
    "from bs4 import BeautifulSoup\n",
    "import urllib\n",
    "from string import replace\n",
    "import numpy as np\n",
    "import csv"
   ]
  },
  {
   "cell_type": "code",
   "execution_count": 3,
   "metadata": {
    "collapsed": false
   },
   "outputs": [],
   "source": [
    "def parse_table(table):\n",
    "    return [\n",
    "        [cell.get_text().strip() for cell in row.find_all(['th', 'td'])]\n",
    "           for row in table.find_all('tr')\n",
    "    ]"
   ]
  },
  {
   "cell_type": "code",
   "execution_count": 4,
   "metadata": {
    "collapsed": false
   },
   "outputs": [],
   "source": [
    "headings = []\n",
    "\n",
    "for k in range(30):\n",
    "    day = k+1\n",
    "    url = 'http://cdec2.cdec-sing.cl/pls/portal/cdec.pck_programacion_pub.dsp_prog_diaria_2?\\\n",
    "    p_fecha='+str(day)+'-9-2016&p_estado=P'\n",
    "    html_doc = urllib.urlopen(url).read()\n",
    "    soup = BeautifulSoup(html_doc, 'html.parser')\n",
    "    x = parse_table(soup)  \n",
    "    \n",
    "    for i in [10,4,3,2,1,0]:\n",
    "            x.remove(x[i])\n",
    "\n",
    "    for i in range(6):\n",
    "        last_row = len(x)-1\n",
    "        x.remove(x[last_row])\n",
    "\n",
    "    for i in range(len(x)):\n",
    "        if len(x[i])==1:\n",
    "            x.remove(x[i])\n",
    "    \n",
    "    for i in range(len(x)):\n",
    "        if x[i][0] not in headings:\n",
    "            headings.append(x[i][0])  \n",
    "\n",
    "for i in range(len(headings)):\n",
    "    headings[i]=headings[i].encode('utf-8')"
   ]
  },
  {
   "cell_type": "code",
   "execution_count": 6,
   "metadata": {
    "collapsed": false
   },
   "outputs": [],
   "source": [
    "duration = 30\n",
    "data_array = np.zeros(shape=[24*(duration),len(headings)])\n",
    "\n",
    "for k in range(duration):\n",
    "    day = k+1\n",
    "    url = 'http://cdec2.cdec-sing.cl/pls/portal/cdec.pck_programacion_pub.dsp_prog_diaria_2?\\\n",
    "    p_fecha='+str(day)+'-9-2016&p_estado=P'\n",
    "    html_doc = urllib.urlopen(url).read()\n",
    "    soup = BeautifulSoup(html_doc, 'html.parser')\n",
    "    x = parse_table(soup)  \n",
    "\n",
    "    for i in [10,4,3,2,1,0]:\n",
    "            x.remove(x[i])\n",
    "\n",
    "    for i in range(6):\n",
    "        last_row = len(x)-1\n",
    "        x.remove(x[last_row])\n",
    "\n",
    "    for i in range(len(x)):\n",
    "        if len(x[i])==1:\n",
    "            x.remove(x[i])\n",
    "\n",
    "    for i in range(len(x)):\n",
    "        for j in range(len(x[i])):\n",
    "            if x[i][j]=='':\n",
    "                x[i][j]=(str(x[i][j].replace('','0')))\n",
    "\n",
    "    for i in range(len(x)):\n",
    "        for j in range(len(x[i])):\n",
    "            try:\n",
    "                x[i][j]=float(str(x[i][j].replace(',','.')))\n",
    "            except:\n",
    "                next\n",
    "\n",
    "    for i in range(len(x)):\n",
    "        if len(x[i])==1:\n",
    "            x.remove(x[i]) \n",
    "            \n",
    "    for i in range(len(x)):\n",
    "        x[i][0] = x[i][0].encode('utf-8')\n",
    "\n",
    "    pointer = []\n",
    "    for i in range(len(x)):\n",
    "        pointer.append(headings.index(x[i][0]))\n",
    "        x[i].pop(0)\n",
    "\n",
    "    for i in range(len(x)):\n",
    "        for j in range(len(x[0])-1):\n",
    "            data_array[(j+(24*k)),pointer[i]]=x[i][j]"
   ]
  },
  {
   "cell_type": "code",
   "execution_count": 233,
   "metadata": {
    "collapsed": false
   },
   "outputs": [],
   "source": [
    "with open('CDEC_SING_Septiembre.csv','wb')as f:\n",
    "    w = csv.writer(f,delimiter=',',lineterminator='\\n')\n",
    "    w.writerow(headings)\n",
    "    w.writerows(data_array)"
   ]
  }
 ],
 "metadata": {
  "kernelspec": {
   "display_name": "Python 2",
   "language": "python",
   "name": "python2"
  },
  "language_info": {
   "codemirror_mode": {
    "name": "ipython",
    "version": 2
   },
   "file_extension": ".py",
   "mimetype": "text/x-python",
   "name": "python",
   "nbconvert_exporter": "python",
   "pygments_lexer": "ipython2",
   "version": "2.7.12"
  }
 },
 "nbformat": 4,
 "nbformat_minor": 0
}
